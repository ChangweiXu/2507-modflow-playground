{
 "cells": [
  {
   "cell_type": "code",
   "execution_count": 1,
   "id": "96ee29b9",
   "metadata": {},
   "outputs": [],
   "source": [
    "import numpy as np\n",
    "import pandas as pd\n",
    "import flopy\n",
    "import matplotlib.pyplot as plt\n",
    "import flopy.utils.binaryfile as bf\n",
    "# %config InlineBackend.figure_format = 'svg'\n",
    "from matplotlib.font_manager import FontProperties\n",
    "import matplotlib.pyplot as plt\n",
    "config = {\n",
    "    'font.family':'Times New Roman',\n",
    "    'font.size': 15,\n",
    "    'font.serif': ['SimSun'],\n",
    "    'xtick.direction': 'in',\n",
    "    'ytick.direction': 'in',\n",
    "    'mathtext.fontset':'stix',\n",
    "    'savefig.dpi':300,}\n",
    "plt.rcParams.update(config)"
   ]
  },
  {
   "cell_type": "markdown",
   "id": "e4d36dec",
   "metadata": {},
   "source": [
    "凭空捏造数据：\n",
    "5000m长宽，100*100分辨率\n",
    "\n",
    "z顶部高程随机-10到+10之间，含水层厚度随机10到100之间，以此计算z底部高程\n",
    "\n",
    "网格渗流系数随机生成算法：\n",
    "1. 随机选2到5个起点，随机渗流系数1到10之间\n",
    "2. 对其余所有点：测量曼哈顿距离，挑选最近的起点的渗流系数\n",
    "\n",
    "随机1到5口水井，每个水井随机-600到+600抽放水速率\n",
    "\n",
    "左、右、上边界随机定水头数值1到4之间\n"
   ]
  },
  {
   "cell_type": "code",
   "execution_count": 2,
   "id": "c8fd041d",
   "metadata": {},
   "outputs": [],
   "source": [
    "# ground info\n",
    "height = 5000.0  # meter\n",
    "width = 5000.0  # meter\n",
    "num_row = 100\n",
    "num_col = 100\n",
    "delta_row = height / num_row\n",
    "delta_col = width / num_col\n",
    "\n",
    "z_top = np.random.random() * 20 - 10  # meter\n",
    "z_delta = np.random.random() * 90 + 10  # meter\n",
    "z_bottom = z_top - z_delta\n",
    "num_layer = 1\n",
    "bottom_arr = np.linspace(z_top, z_bottom, num_layer + 1)\n",
    "\n",
    "# 边界水头\n",
    "boundary = np.ones((num_layer, num_row, num_col), dtype=np.int32)\n",
    "boundary[:, :, 0] = -1\n",
    "boundary[:, :, -1] = -1\n",
    "boundary[:, 0, 1:-1] = -1\n",
    "starting_head = np.ones((num_layer, num_row, num_col), dtype=np.float32)\n",
    "starting_head[:, :, 0] = np.random.random() * 3 + 1\n",
    "starting_head[:, :, -1] = np.random.random() * 3 + 1\n",
    "starting_head[:, 0, 1:-1] = np.random.random() * 3 + 1\n",
    "\n",
    "# 含水层\n",
    "seed_num = np.random.randint(2, 6)\n",
    "seed_pos = np.random.randint(100, size=(seed_num, 2))\n",
    "seed_coeff = np.random.random(size=(seed_num)) * 9 + 1\n",
    "layer_property = np.ones((num_layer, num_row, num_col), dtype=np.float32)\n",
    "for r in range(num_row):\n",
    "    for c in range(num_col):\n",
    "        _pos = np.array([r, c])\n",
    "        _distances = np.sum(np.abs(_pos - seed_pos), axis=1)\n",
    "        _nearest = np.argmin(_distances)\n",
    "        layer_property[:, r, c] = seed_coeff[_nearest]\n",
    "\n",
    "# well\n",
    "well_num = np.random.randint(1, 6)\n",
    "well_stress_data = {\n",
    "    0: [\n",
    "        [\n",
    "            0, \n",
    "            np.random.randint(100), \n",
    "            np.random.randint(100), \n",
    "            np.random.random() * 1200 - 600\n",
    "        ] for _ in range(well_num)\n",
    "    ]\n",
    "}\n",
    "\n",
    "# "
   ]
  },
  {
   "cell_type": "code",
   "execution_count": null,
   "id": "f9b7880e",
   "metadata": {},
   "outputs": [],
   "source": [
    "model_path = \"mock_data\"\n",
    "model_name = \"mdata_0\"\n",
    "mf_obj = flopy.modflow.Modflow(\n",
    "    model_name,\n",
    "    model_ws=model_path,\n",
    ")\n",
    "discretization = flopy.modflow.ModflowDis(\n",
    "    mf_obj,\n",
    "    num_layer, num_row, num_col,\n",
    "    delr=delta_row,\n",
    "    delc=delta_col,\n",
    "    top=z_top,\n",
    "    botm=bottom_arr[1:],\n",
    ")\n",
    "basic_info = flopy.modflow.ModflowBas(\n",
    "    mf_obj,\n",
    "    ibound=boundary,\n",
    "    strt=starting_head,\n",
    ")\n",
    "layer_property_flow = flopy.modflow.ModflowLpf(\n",
    "    mf_obj,\n",
    "    hk=layer_property,\n",
    ")\n",
    "well_obj = flopy.modflow.ModflowWel(\n",
    "    mf_obj,\n",
    "    stress_period_data=well_stress_data\n",
    ")"
   ]
  },
  {
   "cell_type": "code",
   "execution_count": null,
   "id": "6f1935a0",
   "metadata": {},
   "outputs": [],
   "source": [
    "# output config\n",
    "stress_period_oc = {(0, 0): [\"print head\", \"print budget\", \"save head\", \"save budget\"]}\n",
    "output_config = flopy.modflow.ModflowOc(\n",
    "    mf_obj,\n",
    "    stress_period_data=stress_period_oc,\n",
    "    compact=True,\n",
    ")\n",
    "pcg = flopy.modflow.ModflowPcg(mf_obj)"
   ]
  },
  {
   "cell_type": "code",
   "execution_count": null,
   "id": "6489aa3b",
   "metadata": {},
   "outputs": [
    {
     "name": "stdout",
     "output_type": "stream",
     "text": [
      "FloPy is using the following executable to run the model: ..\\..\\..\\..\\..\\modflow\\MF2005.1_12\\bin\\mf2005.exe\n",
      "\n",
      "                                  MODFLOW-2005     \n",
      "    U.S. GEOLOGICAL SURVEY MODULAR FINITE-DIFFERENCE GROUND-WATER FLOW MODEL\n",
      "                             Version 1.12.00 2/3/2017                        \n",
      "\n",
      " Using NAME file: mdata_0.nam \n",
      " Run start date and time (yyyy/mm/dd hh:mm:ss): 2025/07/08  0:01:26\n",
      "\n",
      " Solving:  Stress period:     1    Time step:     1    Ground-Water Flow Eqn.\n",
      " Run end date and time (yyyy/mm/dd hh:mm:ss): 2025/07/08  0:01:26\n",
      " Elapsed run time:  0.046 Seconds\n",
      "\n",
      "  Normal termination of simulation\n"
     ]
    }
   ],
   "source": [
    "mf_obj.write_input()\n",
    "succ_flag, buff = mf_obj.run_model()\n",
    "if not succ_flag:\n",
    "    raise RuntimeError(\"ERROR\")"
   ]
  },
  {
   "cell_type": "code",
   "execution_count": 6,
   "id": "2ce867d3",
   "metadata": {},
   "outputs": [
    {
     "data": {
      "text/plain": [
       "<matplotlib.colorbar.Colorbar at 0x2a18ec3ec20>"
      ]
     },
     "execution_count": 6,
     "metadata": {},
     "output_type": "execute_result"
    },
    {
     "data": {
      "image/png": "[encoded data removed]",
      "text/plain": [
       "<Figure size 1100x800 with 2 Axes>"
      ]
     },
     "metadata": {},
     "output_type": "display_data"
    }
   ],
   "source": [
    "# 提取水头数据\n",
    "hds = bf.HeadFile(f'./{model_path}/{model_name}.hds')\n",
    "head = hds.get_data(totim=1.0)\n",
    "df = pd.DataFrame(head[0])\n",
    "plt.figure(figsize=(11,8))\n",
    "plt.imshow(df)\n",
    "plt.colorbar()"
   ]
  },
  {
   "cell_type": "code",
   "execution_count": null,
   "id": "21184fb3",
   "metadata": {},
   "outputs": [],
   "source": []
  }
 ],
 "metadata": {
  "kernelspec": {
   "display_name": ".venv",
   "language": "python",
   "name": "python3"
  },
  "language_info": {
   "codemirror_mode": {
    "name": "ipython",
    "version": 3
   },
   "file_extension": ".py",
   "mimetype": "text/x-python",
   "name": "python",
   "nbconvert_exporter": "python",
   "pygments_lexer": "ipython3",
   "version": "3.10.7"
  }
 },
 "nbformat": 4,
 "nbformat_minor": 5
}
